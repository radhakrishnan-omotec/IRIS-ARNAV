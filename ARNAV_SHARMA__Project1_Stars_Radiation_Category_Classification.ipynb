{
  "metadata": {
    "kernelspec": {
      "name": "python3",
      "display_name": "Python 3",
      "language": "python"
    },
    "language_info": {
      "name": "python",
      "version": "3.10.14",
      "mimetype": "text/x-python",
      "codemirror_mode": {
        "name": "ipython",
        "version": 3
      },
      "pygments_lexer": "ipython3",
      "nbconvert_exporter": "python",
      "file_extension": ".py"
    },
    "kaggle": {
      "accelerator": "none",
      "dataSources": [
        {
          "sourceId": 754362,
          "sourceType": "datasetVersion",
          "datasetId": 391127
        }
      ],
      "dockerImageVersionId": 30761,
      "isInternetEnabled": true,
      "language": "python",
      "sourceType": "notebook",
      "isGpuEnabled": false
    },
    "colab": {
      "provenance": []
    }
  },
  "nbformat_minor": 0,
  "nbformat": 4,
  "cells": [
    {
      "source": [
        "# IMPORTANT: RUN THIS CELL IN ORDER TO IMPORT YOUR KAGGLE DATA SOURCES,\n",
        "# THEN FEEL FREE TO DELETE THIS CELL.\n",
        "# NOTE: THIS NOTEBOOK ENVIRONMENT DIFFERS FROM KAGGLE'S PYTHON\n",
        "# ENVIRONMENT SO THERE MAY BE MISSING LIBRARIES USED BY YOUR\n",
        "# NOTEBOOK.\n",
        "import kagglehub\n",
        "deepu1109_star_dataset_path = kagglehub.dataset_download('deepu1109/star-dataset')\n",
        "\n",
        "print('Data source import complete.')\n"
      ],
      "metadata": {
        "id": "J3UxplRVgDDk"
      },
      "cell_type": "code",
      "outputs": [],
      "execution_count": null
    },
    {
      "cell_type": "code",
      "source": [
        "import pandas as pd\n",
        "import numpy as np"
      ],
      "metadata": {
        "execution": {
          "iopub.status.busy": "2024-09-22T08:48:47.81589Z",
          "iopub.execute_input": "2024-09-22T08:48:47.816403Z",
          "iopub.status.idle": "2024-09-22T08:48:48.272289Z",
          "shell.execute_reply.started": "2024-09-22T08:48:47.816345Z",
          "shell.execute_reply": "2024-09-22T08:48:48.271085Z"
        },
        "trusted": true,
        "id": "OWlp2tK1gDDl"
      },
      "execution_count": null,
      "outputs": []
    },
    {
      "cell_type": "markdown",
      "source": [
        "**Temperature (K):** The measure of the thermal energy at the surface of the star.\n",
        "\n",
        "**Luminosity (L/Lo):** The total energy output of the star per second (power), compared to the Sun.\n",
        "\n",
        "**Radius (R/Ro):** The distance from the center of the star to its surface, relative to the Sun.\n",
        "\n",
        "**Absolute Magnitude (Mv):** A logarithmic measure of the star’s true brightness, independent of distance.\n",
        "\n",
        "**Star Type:** The classification based on the star’s nuclear fusion process and life stage.\n",
        "\n",
        "**Star Category:** A grouping of stars by size, mass, and energy output characteristics.\n",
        "\n",
        "**Star Color:** The wavelength of light emitted by the star, related to its temperature\n",
        "\n",
        "**Spectral Class:** A classification of stars by temperature and absorption lines in the star’s spectrum."
      ],
      "metadata": {
        "id": "EO_HziVWgDDn"
      }
    },
    {
      "cell_type": "code",
      "source": [
        "df=pd.read_csv(r\"/kaggle/input/star-dataset/6 class csv.csv\")\n",
        "df"
      ],
      "metadata": {
        "execution": {
          "iopub.status.busy": "2024-09-22T08:48:48.274008Z",
          "iopub.execute_input": "2024-09-22T08:48:48.274517Z",
          "iopub.status.idle": "2024-09-22T08:48:48.305593Z",
          "shell.execute_reply.started": "2024-09-22T08:48:48.274452Z",
          "shell.execute_reply": "2024-09-22T08:48:48.304397Z"
        },
        "trusted": true,
        "id": "yweM2-SrgDDo"
      },
      "execution_count": null,
      "outputs": []
    },
    {
      "cell_type": "code",
      "source": [
        "df.info()"
      ],
      "metadata": {
        "execution": {
          "iopub.status.busy": "2024-09-22T08:48:48.306939Z",
          "iopub.execute_input": "2024-09-22T08:48:48.307277Z",
          "iopub.status.idle": "2024-09-22T08:48:48.321873Z",
          "shell.execute_reply.started": "2024-09-22T08:48:48.30724Z",
          "shell.execute_reply": "2024-09-22T08:48:48.320622Z"
        },
        "trusted": true,
        "id": "odsh94zJgDDo"
      },
      "execution_count": null,
      "outputs": []
    },
    {
      "cell_type": "code",
      "source": [
        "df['Star type'].value_counts()"
      ],
      "metadata": {
        "execution": {
          "iopub.status.busy": "2024-09-22T08:48:48.324977Z",
          "iopub.execute_input": "2024-09-22T08:48:48.325438Z",
          "iopub.status.idle": "2024-09-22T08:48:48.336648Z",
          "shell.execute_reply.started": "2024-09-22T08:48:48.325373Z",
          "shell.execute_reply": "2024-09-22T08:48:48.335429Z"
        },
        "trusted": true,
        "id": "URuQ7n7HgDDp"
      },
      "execution_count": null,
      "outputs": []
    },
    {
      "cell_type": "code",
      "source": [
        "df['Star category']=df['Star type'].apply(lambda x:'Brown Dwarf' if x==0 else 'Red Dwarf' if x==1\n",
        "                                         else 'White Dwarf' if x==2 else 'Main Sequence' if x==3\n",
        "                                         else 'Supergiant' if x==4 else 'Hypergiant')"
      ],
      "metadata": {
        "execution": {
          "iopub.status.busy": "2024-09-22T08:48:48.338368Z",
          "iopub.execute_input": "2024-09-22T08:48:48.338944Z",
          "iopub.status.idle": "2024-09-22T08:48:48.347964Z",
          "shell.execute_reply.started": "2024-09-22T08:48:48.3389Z",
          "shell.execute_reply": "2024-09-22T08:48:48.346693Z"
        },
        "trusted": true,
        "id": "kMxXS4lggDDp"
      },
      "execution_count": null,
      "outputs": []
    },
    {
      "cell_type": "markdown",
      "source": [
        "**Data Visualization**"
      ],
      "metadata": {
        "id": "Bo1Je0KtgDDq"
      }
    },
    {
      "cell_type": "code",
      "source": [
        "import seaborn as sns\n",
        "import matplotlib.pyplot as plt"
      ],
      "metadata": {
        "execution": {
          "iopub.status.busy": "2024-09-22T08:48:48.349813Z",
          "iopub.execute_input": "2024-09-22T08:48:48.350225Z",
          "iopub.status.idle": "2024-09-22T08:48:49.02697Z",
          "shell.execute_reply.started": "2024-09-22T08:48:48.350185Z",
          "shell.execute_reply": "2024-09-22T08:48:49.025605Z"
        },
        "trusted": true,
        "id": "0crZMe3UgDDq"
      },
      "execution_count": null,
      "outputs": []
    },
    {
      "cell_type": "code",
      "source": [
        "fig,axs=plt.subplots(1,3,figsize=(15,7))\n",
        "sns.scatterplot(data=df,x='Luminosity(L/Lo)',y='Temperature (K)',hue='Star category',ax=axs[0])\n",
        "sns.scatterplot(data=df,x='Radius(R/Ro)',y='Temperature (K)',hue='Star category',ax=axs[1])\n",
        "sns.scatterplot(data=df,x='Absolute magnitude(Mv)',y='Temperature (K)',hue='Star category',ax=axs[2])\n",
        "plt.tight_layout()\n",
        "plt.show()"
      ],
      "metadata": {
        "execution": {
          "iopub.status.busy": "2024-09-22T08:48:49.028655Z",
          "iopub.execute_input": "2024-09-22T08:48:49.029596Z",
          "iopub.status.idle": "2024-09-22T08:48:50.58779Z",
          "shell.execute_reply.started": "2024-09-22T08:48:49.02955Z",
          "shell.execute_reply": "2024-09-22T08:48:50.586586Z"
        },
        "trusted": true,
        "id": "lfQeZ6TPgDDr"
      },
      "execution_count": null,
      "outputs": []
    },
    {
      "cell_type": "markdown",
      "source": [
        "**Temparature vs Luminosity**\n",
        "\n",
        "1. Brown Dwarfs and Red Dwarfs (blue dots and orange dots) ussually have low Luminosity as well as low Temperature.\n",
        "2. White Dwarfs (green dots) usually follow a certain pattern where when there is a slight increase in Luminosity the Temperature increases. They have lower Luminosity but higher temperature.\n",
        "3. Main Sequence stars (red dots) mostly follow a clear pattern, where higher temperatures correspond to higher luminosities.\n",
        "4. Supergiants (purple) and Hypergiants (brown) are generally more luminous but show a wider spread in temperature.\n",
        "\n",
        "**Temperature vs Radius**\n",
        "1. Main Sequence stars again follow a pattern of increasing radius with increasing temperature.\n",
        "2. Supergiants and Hypergiants have much larger radii but are spread across a wide temperature range.\n",
        "3. White Dwarfs show small radii despite high temperatures, consistent with their classification.\n",
        "4. Red and Brown Dwarfs have low temperatures and small radii, clustering towards the bottom left.\n",
        "\n",
        "**Temperature vs Absolute Magnitude**\n",
        "1. Main Sequence stars are well-distributed with a strong negative correlation: stars with higher temperatures tend to have lower (brighter) magnitudes.\n",
        "2. Supergiants and Hypergiants have very bright magnitudes and a wide range of temperatures.\n",
        "3. White Dwarfs have relatively high absolute magnitudes (dim) despite their high temperatures.\n",
        "4. Red and Brown Dwarfs cluster at the bottom right, having low temperatures and high (dim) absolute magnitudes.*"
      ],
      "metadata": {
        "id": "fCpGgnGMgDDr"
      }
    },
    {
      "cell_type": "code",
      "source": [
        "fig, axs = plt.subplots(1, 3, figsize=(18, 7))\n",
        "sns.boxplot(data=df, x='Star category', y='Luminosity(L/Lo)', ax=axs[0])\n",
        "sns.boxplot(data=df, x='Star category', y='Radius(R/Ro)', ax=axs[1])\n",
        "sns.boxplot(data=df, x='Star category', y='Temperature (K)', ax=axs[2])\n",
        "plt.tight_layout()\n",
        "plt.show()"
      ],
      "metadata": {
        "execution": {
          "iopub.status.busy": "2024-09-22T08:48:50.589382Z",
          "iopub.execute_input": "2024-09-22T08:48:50.589783Z",
          "iopub.status.idle": "2024-09-22T08:48:51.559048Z",
          "shell.execute_reply.started": "2024-09-22T08:48:50.589742Z",
          "shell.execute_reply": "2024-09-22T08:48:51.557763Z"
        },
        "trusted": true,
        "id": "mEjzj7I8gDDs"
      },
      "execution_count": null,
      "outputs": []
    },
    {
      "cell_type": "markdown",
      "source": [
        "**Luminosity (L/Lo) vs Star Category (Left Plot)**\n",
        "\n",
        "1. Brown Dwarfs, Red Dwarfs, and White Dwarfs: These stars have very low luminosity, with minimal variation. There are outliers visible, but overall they are clustered near zero.\n",
        "2. Main Sequence stars: Show a moderate increase in luminosity, but still much lower than Supergiants and Hypergiants. The variation is much larger compared to dwarfs.\n",
        "3. Supergiants and Hypergiants: Have significantly higher luminosity values, with some extreme outliers reaching even greater luminosities. Hypergiants in particular show a very wide range in luminosity.\n",
        "\n",
        "**Radius (R/Ro) vs Star Category (Middle Plot)**\n",
        "1. Brown Dwarfs, Red Dwarfs, White Dwarfs: All show very small radii, clustering near the bottom, similar to their small luminosity.\n",
        "2. Main Sequence stars: Show a slight increase in radius, but remain significantly smaller than Supergiants and Hypergiants.\n",
        "3. Supergiants and especially Hypergiants: Have enormous radii, with Hypergiants showing much more spread, indicating that Hypergiants can vary widely in size.\n",
        "\n",
        "**Temperature (K) vs Star Category (Right Plot)**\n",
        "1. Brown Dwarfs, Red Dwarfs, and White Dwarfs: These stars have low temperatures, with White Dwarfs being the hottest among these categories. The temperature spread is relatively narrow.\n",
        "2. Main Sequence stars: Show a broader range of temperatures, with some stars reaching very high temperatures compared to dwarfs.\n",
        "3. Supergiants and Hypergiants: These stars exhibit a wide temperature range, with Supergiants generally showing more variability. Some can be as hot as Main Sequence stars, while others are much cooler."
      ],
      "metadata": {
        "id": "lyoSn1FdgDDt"
      }
    },
    {
      "cell_type": "markdown",
      "source": [
        "**The above scatter and box plots provide us with these General Insights**\n",
        "1. Dwarf stars (Brown, Red, and White) tend to have low luminosity, small radii, and low-to-moderate temperatures.\n",
        "2. Main Sequence stars are more moderate in all characteristics, but show clear patterns of increasing luminosity, radius, and temperature compared to dwarfs.\n",
        "3. Supergiants and Hypergiants are the largest and brightest stars, with significant variation in size and temperature. They have a much higher spread\n",
        "in luminosity, massive radii, and varying temperatures."
      ],
      "metadata": {
        "id": "M_RyU7mxgDDt"
      }
    },
    {
      "cell_type": "code",
      "source": [
        "plt.figure(figsize=(15,8))\n",
        "sns.scatterplot(data=df, x='Radius(R/Ro)', y='Luminosity(L/Lo)', hue='Star category')\n",
        "plt.show()"
      ],
      "metadata": {
        "execution": {
          "iopub.status.busy": "2024-09-22T08:48:51.560654Z",
          "iopub.execute_input": "2024-09-22T08:48:51.561053Z",
          "iopub.status.idle": "2024-09-22T08:48:52.025572Z",
          "shell.execute_reply.started": "2024-09-22T08:48:51.56101Z",
          "shell.execute_reply": "2024-09-22T08:48:52.024359Z"
        },
        "trusted": true,
        "id": "kedj0n7MgDDt"
      },
      "execution_count": null,
      "outputs": []
    },
    {
      "cell_type": "code",
      "source": [
        "plt.figure(figsize=(13,8))\n",
        "sns.boxplot(data=df, x='Star category', y='Absolute magnitude(Mv)')\n",
        "plt.show()"
      ],
      "metadata": {
        "execution": {
          "iopub.status.busy": "2024-09-22T08:48:52.027356Z",
          "iopub.execute_input": "2024-09-22T08:48:52.027869Z",
          "iopub.status.idle": "2024-09-22T08:48:52.390456Z",
          "shell.execute_reply.started": "2024-09-22T08:48:52.027812Z",
          "shell.execute_reply": "2024-09-22T08:48:52.389173Z"
        },
        "trusted": true,
        "id": "v1LpAFavgDDt"
      },
      "execution_count": null,
      "outputs": []
    },
    {
      "cell_type": "markdown",
      "source": [
        "**Brown Dwarfs:** These stars have the highest absolute magnitude, ranging between 15 and 20, making them the dimmest category in the chart.\n",
        "\n",
        "**Red Dwarfs:** Slightly brighter than Brown Dwarfs, Red Dwarfs have an absolute magnitude range of approximately 10 to 15.\n",
        "\n",
        "**White Dwarfs:** These stars are a bit brighter than Red Dwarfs, with absolute magnitudes clustering around 10 to 13.\n",
        "\n",
        "**Main Sequence Stars:** These stars have a wide range of absolute magnitudes, from around -5 to +10, indicating a broader variation in brightness.\n",
        "\n",
        "**Supergiants:** They are very bright stars, with magnitudes ranging from -5 to about -7. They are more luminous than Main Sequence stars and much more luminous than dwarf stars.\n",
        "\n",
        "**Hypergiants:** These stars are the brightest category on the chart, with absolute magnitudes ranging from approximately -8 to -10, showing extreme brightness."
      ],
      "metadata": {
        "id": "qYtnSBYEgDDu"
      }
    },
    {
      "cell_type": "code",
      "source": [
        "sns.scatterplot(data=df, x=(df['Luminosity(L/Lo)'] ** (1/3.5)), y='Luminosity(L/Lo)', hue='Star category')\n",
        "plt.xlabel('Mass(M/Mo)')\n",
        "plt.show()"
      ],
      "metadata": {
        "execution": {
          "iopub.status.busy": "2024-09-22T08:48:52.392025Z",
          "iopub.execute_input": "2024-09-22T08:48:52.392413Z",
          "iopub.status.idle": "2024-09-22T08:48:52.848857Z",
          "shell.execute_reply.started": "2024-09-22T08:48:52.392371Z",
          "shell.execute_reply": "2024-09-22T08:48:52.8476Z"
        },
        "trusted": true,
        "id": "SvSGsaeVgDDu"
      },
      "execution_count": null,
      "outputs": []
    },
    {
      "cell_type": "markdown",
      "source": [
        "**The above plot describing the relationship between Mass (derived from Luminosity) and Luminosity tell us the follwing things:**\n",
        "\n",
        "1. The plot demonstrates that stars with larger masses emit significantly more energy, with hypergiants and supergiants showing the highest values for\n",
        "both mass and luminosity.\n",
        "2. Brown dwarfs, red dwarfs, and white dwarfs are far less luminous and less massive, clustered towards the bottom left.\n",
        "3. This exponential increase in luminosity with mass is a characteristic of stellar evolution, where massive stars burn their fuel more rapidly and shine more brightly."
      ],
      "metadata": {
        "id": "yy6_pURZgDDu"
      }
    },
    {
      "cell_type": "markdown",
      "source": [
        "**Data Preprocessing and Feature Engineering**"
      ],
      "metadata": {
        "id": "xaKA9xnigDDv"
      }
    },
    {
      "cell_type": "code",
      "source": [
        "df.info()"
      ],
      "metadata": {
        "execution": {
          "iopub.status.busy": "2024-09-22T08:48:52.850309Z",
          "iopub.execute_input": "2024-09-22T08:48:52.850769Z",
          "iopub.status.idle": "2024-09-22T08:48:52.863784Z",
          "shell.execute_reply.started": "2024-09-22T08:48:52.85071Z",
          "shell.execute_reply": "2024-09-22T08:48:52.862558Z"
        },
        "trusted": true,
        "id": "czn9jywlgDDv"
      },
      "execution_count": null,
      "outputs": []
    },
    {
      "cell_type": "code",
      "source": [
        "for col in df.columns[df.dtypes=='object']:\n",
        "    print(df[col].value_counts(),'\\n\\n\\n')"
      ],
      "metadata": {
        "execution": {
          "iopub.status.busy": "2024-09-22T08:48:52.870255Z",
          "iopub.execute_input": "2024-09-22T08:48:52.870695Z",
          "iopub.status.idle": "2024-09-22T08:48:52.88153Z",
          "shell.execute_reply.started": "2024-09-22T08:48:52.87065Z",
          "shell.execute_reply": "2024-09-22T08:48:52.880332Z"
        },
        "trusted": true,
        "id": "KvzIuHqUgDDv"
      },
      "execution_count": null,
      "outputs": []
    },
    {
      "cell_type": "code",
      "source": [
        "from sklearn.preprocessing import LabelEncoder"
      ],
      "metadata": {
        "execution": {
          "iopub.status.busy": "2024-09-22T08:48:52.882852Z",
          "iopub.execute_input": "2024-09-22T08:48:52.883224Z",
          "iopub.status.idle": "2024-09-22T08:48:52.952135Z",
          "shell.execute_reply.started": "2024-09-22T08:48:52.883175Z",
          "shell.execute_reply": "2024-09-22T08:48:52.950897Z"
        },
        "trusted": true,
        "id": "CdjzpXnNgDDv"
      },
      "execution_count": null,
      "outputs": []
    },
    {
      "cell_type": "code",
      "source": [
        "le=LabelEncoder()\n",
        "for col in df.columns[df.dtypes=='object']:\n",
        "    df[col]=le.fit_transform(df[col])"
      ],
      "metadata": {
        "execution": {
          "iopub.status.busy": "2024-09-22T08:48:52.953465Z",
          "iopub.execute_input": "2024-09-22T08:48:52.953862Z",
          "iopub.status.idle": "2024-09-22T08:48:52.964019Z",
          "shell.execute_reply.started": "2024-09-22T08:48:52.953821Z",
          "shell.execute_reply": "2024-09-22T08:48:52.962701Z"
        },
        "trusted": true,
        "id": "emDjQ0yTgDDv"
      },
      "execution_count": null,
      "outputs": []
    },
    {
      "cell_type": "code",
      "source": [
        "df['Mass (M/Mo)']=(df['Luminosity(L/Lo)']**(1/3.5))"
      ],
      "metadata": {
        "execution": {
          "iopub.status.busy": "2024-09-22T08:48:52.965909Z",
          "iopub.execute_input": "2024-09-22T08:48:52.966396Z",
          "iopub.status.idle": "2024-09-22T08:48:52.975134Z",
          "shell.execute_reply.started": "2024-09-22T08:48:52.966338Z",
          "shell.execute_reply": "2024-09-22T08:48:52.973819Z"
        },
        "trusted": true,
        "id": "KCEyeneIgDDw"
      },
      "execution_count": null,
      "outputs": []
    },
    {
      "cell_type": "code",
      "source": [
        "from sklearn.feature_selection import mutual_info_classif\n",
        "t_x=df.drop(columns='Star category')\n",
        "t_y=df['Star category']\n",
        "mi=mutual_info_classif(t_x,t_y)\n",
        "mi_scores_df=pd.DataFrame({'Feature': t_x.columns, 'MI Score':mi})\n",
        "mi_scores_df=mi_scores_df.sort_values(by='MI Score', ascending=False)\n",
        "print(mi_scores_df)"
      ],
      "metadata": {
        "execution": {
          "iopub.status.busy": "2024-09-22T08:48:52.976647Z",
          "iopub.execute_input": "2024-09-22T08:48:52.97706Z",
          "iopub.status.idle": "2024-09-22T08:48:53.11075Z",
          "shell.execute_reply.started": "2024-09-22T08:48:52.977016Z",
          "shell.execute_reply": "2024-09-22T08:48:53.10957Z"
        },
        "trusted": true,
        "id": "a1uDvzEYgDDw"
      },
      "execution_count": null,
      "outputs": []
    },
    {
      "cell_type": "code",
      "source": [
        "df['Magnitude_Temperature_Ratio']=df['Absolute magnitude(Mv)']/df['Temperature (K)']"
      ],
      "metadata": {
        "execution": {
          "iopub.status.busy": "2024-09-22T08:48:53.112489Z",
          "iopub.execute_input": "2024-09-22T08:48:53.113004Z",
          "iopub.status.idle": "2024-09-22T08:48:53.119875Z",
          "shell.execute_reply.started": "2024-09-22T08:48:53.112947Z",
          "shell.execute_reply": "2024-09-22T08:48:53.118705Z"
        },
        "trusted": true,
        "id": "3psgGH_kgDDw"
      },
      "execution_count": null,
      "outputs": []
    },
    {
      "cell_type": "code",
      "source": [
        "mi=mutual_info_classif(df[['Magnitude_Temperature_Ratio']],t_y)\n",
        "mi_scores_df=pd.DataFrame({'Feature':['Magnitude_Temperature_Ratio'], 'MI Score':mi})\n",
        "mi_scores_df=mi_scores_df.sort_values(by='MI Score', ascending=False)\n",
        "print(mi_scores_df)"
      ],
      "metadata": {
        "execution": {
          "iopub.status.busy": "2024-09-22T08:48:53.12149Z",
          "iopub.execute_input": "2024-09-22T08:48:53.121977Z",
          "iopub.status.idle": "2024-09-22T08:48:53.14604Z",
          "shell.execute_reply.started": "2024-09-22T08:48:53.121925Z",
          "shell.execute_reply": "2024-09-22T08:48:53.144585Z"
        },
        "trusted": true,
        "id": "zUZxnbjHgDDw"
      },
      "execution_count": null,
      "outputs": []
    },
    {
      "cell_type": "code",
      "source": [
        "df['Radius_Luminosity_Ratio']=(df['Radius(R/Ro)']/df['Luminosity(L/Lo)'])"
      ],
      "metadata": {
        "execution": {
          "iopub.status.busy": "2024-09-22T08:48:53.147899Z",
          "iopub.execute_input": "2024-09-22T08:48:53.148309Z",
          "iopub.status.idle": "2024-09-22T08:48:53.15462Z",
          "shell.execute_reply.started": "2024-09-22T08:48:53.14826Z",
          "shell.execute_reply": "2024-09-22T08:48:53.153304Z"
        },
        "trusted": true,
        "id": "U3n5wNKTgDDw"
      },
      "execution_count": null,
      "outputs": []
    },
    {
      "cell_type": "code",
      "source": [
        "mi=mutual_info_classif(df[['Radius_Luminosity_Ratio']],t_y)\n",
        "mi_scores_df=pd.DataFrame({'Feature':['Radius_Luminosity_Ratio'], 'MI Score':mi})\n",
        "mi_scores_df=mi_scores_df.sort_values(by='MI Score', ascending=False)\n",
        "print(mi_scores_df)"
      ],
      "metadata": {
        "execution": {
          "iopub.status.busy": "2024-09-22T08:48:53.156141Z",
          "iopub.execute_input": "2024-09-22T08:48:53.156627Z",
          "iopub.status.idle": "2024-09-22T08:48:53.181513Z",
          "shell.execute_reply.started": "2024-09-22T08:48:53.156571Z",
          "shell.execute_reply": "2024-09-22T08:48:53.180271Z"
        },
        "trusted": true,
        "id": "P8vedBLcgDDw"
      },
      "execution_count": null,
      "outputs": []
    },
    {
      "cell_type": "code",
      "source": [
        "t_x=df.drop(columns='Star category')\n",
        "t_y=df['Star category']\n",
        "mi=mutual_info_classif(t_x,t_y)\n",
        "mi_scores_df=pd.DataFrame({'Feature': t_x.columns, 'MI Score':mi})\n",
        "mi_scores_df=mi_scores_df.sort_values(by='MI Score', ascending=False)\n",
        "print(mi_scores_df)"
      ],
      "metadata": {
        "execution": {
          "iopub.status.busy": "2024-09-22T08:48:53.183103Z",
          "iopub.execute_input": "2024-09-22T08:48:53.183491Z",
          "iopub.status.idle": "2024-09-22T08:48:53.264207Z",
          "shell.execute_reply.started": "2024-09-22T08:48:53.183448Z",
          "shell.execute_reply": "2024-09-22T08:48:53.263007Z"
        },
        "trusted": true,
        "id": "uD8yzAXngDDw"
      },
      "execution_count": null,
      "outputs": []
    },
    {
      "cell_type": "code",
      "source": [
        "df.info()"
      ],
      "metadata": {
        "execution": {
          "iopub.status.busy": "2024-09-22T08:48:53.265908Z",
          "iopub.execute_input": "2024-09-22T08:48:53.266446Z",
          "iopub.status.idle": "2024-09-22T08:48:53.279743Z",
          "shell.execute_reply.started": "2024-09-22T08:48:53.266391Z",
          "shell.execute_reply": "2024-09-22T08:48:53.278332Z"
        },
        "trusted": true,
        "id": "pcEkjdsGgDDx"
      },
      "execution_count": null,
      "outputs": []
    },
    {
      "cell_type": "markdown",
      "source": [
        "**Data Preparation**"
      ],
      "metadata": {
        "id": "VbE_xzQqgDDx"
      }
    },
    {
      "cell_type": "code",
      "source": [
        "from sklearn.model_selection import train_test_split"
      ],
      "metadata": {
        "execution": {
          "iopub.status.busy": "2024-09-22T08:48:53.281466Z",
          "iopub.execute_input": "2024-09-22T08:48:53.281886Z",
          "iopub.status.idle": "2024-09-22T08:48:53.290326Z",
          "shell.execute_reply.started": "2024-09-22T08:48:53.281844Z",
          "shell.execute_reply": "2024-09-22T08:48:53.288919Z"
        },
        "trusted": true,
        "id": "ncsawKxRgDDx"
      },
      "execution_count": null,
      "outputs": []
    },
    {
      "cell_type": "code",
      "source": [
        "x=df.drop(columns='Star category')\n",
        "y=df['Star category']\n",
        "x_t,x_te,y_t,y_te=train_test_split(x,y,test_size=0.25,random_state=20)"
      ],
      "metadata": {
        "execution": {
          "iopub.status.busy": "2024-09-22T08:48:53.292244Z",
          "iopub.execute_input": "2024-09-22T08:48:53.292744Z",
          "iopub.status.idle": "2024-09-22T08:48:53.304841Z",
          "shell.execute_reply.started": "2024-09-22T08:48:53.2927Z",
          "shell.execute_reply": "2024-09-22T08:48:53.303575Z"
        },
        "trusted": true,
        "id": "-p8I0IzNgDDx"
      },
      "execution_count": null,
      "outputs": []
    },
    {
      "cell_type": "code",
      "source": [
        "from sklearn.model_selection import RandomizedSearchCV,GridSearchCV\n",
        "from sklearn.tree import DecisionTreeClassifier\n",
        "from sklearn.ensemble import AdaBoostClassifier,RandomForestClassifier\n",
        "from sklearn.metrics import accuracy_score,confusion_matrix,classification_report,precision_score,f1_score,recall_score"
      ],
      "metadata": {
        "execution": {
          "iopub.status.busy": "2024-09-22T08:48:53.306851Z",
          "iopub.execute_input": "2024-09-22T08:48:53.307656Z",
          "iopub.status.idle": "2024-09-22T08:48:53.454618Z",
          "shell.execute_reply.started": "2024-09-22T08:48:53.307599Z",
          "shell.execute_reply": "2024-09-22T08:48:53.453459Z"
        },
        "trusted": true,
        "id": "bm3-pyXsgDDy"
      },
      "execution_count": null,
      "outputs": []
    },
    {
      "cell_type": "markdown",
      "source": [
        "**AdaBoost Classifier**"
      ],
      "metadata": {
        "id": "l0U5RitegDDy"
      }
    },
    {
      "cell_type": "code",
      "source": [
        "ada=AdaBoostClassifier(algorithm='SAMME')\n",
        "ada_xt=x_t.copy()\n",
        "ada_xte=x_te.copy()\n",
        "ada_yt=y_t.copy()\n",
        "ada_yte=y_te.copy()\n",
        "param={'estimator': [DecisionTreeClassifier(max_depth=1),None],\n",
        "    'learning_rate': np.arange(0.1, 2.01, 0.01),\n",
        "    'n_estimators': [300]}\n",
        "nada=RandomizedSearchCV(ada,param_distributions=param,cv=10,n_jobs=-1,random_state=20,scoring='accuracy')\n",
        "nada.fit(ada_xt,ada_yt)\n",
        "print(nada.best_params_)\n",
        "print(nada.best_score_)"
      ],
      "metadata": {
        "execution": {
          "iopub.status.busy": "2024-09-22T08:48:53.456371Z",
          "iopub.execute_input": "2024-09-22T08:48:53.45742Z",
          "iopub.status.idle": "2024-09-22T08:49:21.634234Z",
          "shell.execute_reply.started": "2024-09-22T08:48:53.457363Z",
          "shell.execute_reply": "2024-09-22T08:49:21.632753Z"
        },
        "trusted": true,
        "id": "I1GAenLxgDDy"
      },
      "execution_count": null,
      "outputs": []
    },
    {
      "cell_type": "code",
      "source": [
        "nada=nada.best_estimator_\n",
        "pred1_t=nada.predict(ada_xt)\n",
        "pred1=nada.predict(ada_xte)"
      ],
      "metadata": {
        "execution": {
          "iopub.status.busy": "2024-09-22T08:49:21.636467Z",
          "iopub.execute_input": "2024-09-22T08:49:21.63753Z",
          "iopub.status.idle": "2024-09-22T08:49:21.737063Z",
          "shell.execute_reply.started": "2024-09-22T08:49:21.63744Z",
          "shell.execute_reply": "2024-09-22T08:49:21.73549Z"
        },
        "trusted": true,
        "id": "ChFjiYuCgDDy"
      },
      "execution_count": null,
      "outputs": []
    },
    {
      "cell_type": "markdown",
      "source": [
        "**Decision Tree Classifier**"
      ],
      "metadata": {
        "id": "z7FTQIaqgDDy"
      }
    },
    {
      "cell_type": "code",
      "source": [
        "dt_xt=x_t.copy()\n",
        "dt_xte=x_te.copy()\n",
        "dt_yt=y_t.copy()\n",
        "dt_yte=y_te.copy()\n",
        "dt=DecisionTreeClassifier()\n",
        "path=dt.cost_complexity_pruning_path(dt_xt,dt_yt)\n",
        "alphas=path.ccp_alphas\n",
        "param={'ccp_alpha':alphas}\n",
        "ndt = GridSearchCV(dt, param_grid=param, n_jobs=-1, scoring='accuracy')\n",
        "ndt.fit(dt_xt,dt_yt)\n",
        "print(ndt.best_params_)\n",
        "print(ndt.best_score_)\n",
        "ba=ndt.best_params_['ccp_alpha']"
      ],
      "metadata": {
        "execution": {
          "iopub.status.busy": "2024-09-22T08:49:21.738931Z",
          "iopub.execute_input": "2024-09-22T08:49:21.739513Z",
          "iopub.status.idle": "2024-09-22T08:49:21.864392Z",
          "shell.execute_reply.started": "2024-09-22T08:49:21.739435Z",
          "shell.execute_reply": "2024-09-22T08:49:21.862792Z"
        },
        "trusted": true,
        "id": "-anevxZxgDDy"
      },
      "execution_count": null,
      "outputs": []
    },
    {
      "cell_type": "code",
      "source": [
        "dt=DecisionTreeClassifier(ccp_alpha=ba)\n",
        "param={'criterion':['gini','entropy'],'min_samples_split':list(np.arange(2,51)),'min_samples_leaf':list(np.arange(1,51)),\n",
        "       'max_features':['sqrt','log2',None]}\n",
        "ndt=RandomizedSearchCV(dt,param_distributions=param,cv=10,n_jobs=-1,random_state=20,scoring='accuracy')\n",
        "ndt.fit(dt_xt,dt_yt)\n",
        "print(ndt.best_params_)\n",
        "print(ndt.best_score_)\n",
        "ndt=ndt.best_estimator_"
      ],
      "metadata": {
        "execution": {
          "iopub.status.busy": "2024-09-22T08:49:21.865914Z",
          "iopub.execute_input": "2024-09-22T08:49:21.866434Z",
          "iopub.status.idle": "2024-09-22T08:49:22.225149Z",
          "shell.execute_reply.started": "2024-09-22T08:49:21.86638Z",
          "shell.execute_reply": "2024-09-22T08:49:22.223764Z"
        },
        "trusted": true,
        "id": "I6H1zjEPgDDz"
      },
      "execution_count": null,
      "outputs": []
    },
    {
      "cell_type": "code",
      "source": [
        "pred2_t=ndt.predict(dt_xt)\n",
        "pred2=ndt.predict(dt_xte)"
      ],
      "metadata": {
        "execution": {
          "iopub.status.busy": "2024-09-22T08:49:22.226706Z",
          "iopub.execute_input": "2024-09-22T08:49:22.227087Z",
          "iopub.status.idle": "2024-09-22T08:49:22.238506Z",
          "shell.execute_reply.started": "2024-09-22T08:49:22.227047Z",
          "shell.execute_reply": "2024-09-22T08:49:22.236689Z"
        },
        "trusted": true,
        "id": "D91NXSCPgDDz"
      },
      "execution_count": null,
      "outputs": []
    },
    {
      "cell_type": "markdown",
      "source": [
        "**Random Forest Classifier**"
      ],
      "metadata": {
        "id": "CKZredK5gDDz"
      }
    },
    {
      "cell_type": "code",
      "source": [
        "rf_xt=x_t.copy()\n",
        "rf_xte=x_te.copy()\n",
        "rf_yt=y_t.copy()\n",
        "rf_yte=y_te.copy()\n",
        "rf=RandomForestClassifier()\n",
        "param={'criterion':['gini','entropy'],'min_samples_split':list(np.arange(2,52)),\n",
        "       'min_samples_leaf':list(np.arange(1,52)),\n",
        "       'n_estimators':[400]}\n",
        "nrf=RandomizedSearchCV(rf,param_distributions=param,n_jobs=-1,random_state=20,cv=10)\n",
        "nrf.fit(rf_xt,rf_yt)\n",
        "print(nrf.best_params_)\n",
        "print(nrf.best_score_)"
      ],
      "metadata": {
        "execution": {
          "iopub.status.busy": "2024-09-22T08:49:22.241815Z",
          "iopub.execute_input": "2024-09-22T08:49:22.242355Z",
          "iopub.status.idle": "2024-09-22T08:49:58.841712Z",
          "shell.execute_reply.started": "2024-09-22T08:49:22.242304Z",
          "shell.execute_reply": "2024-09-22T08:49:58.840509Z"
        },
        "trusted": true,
        "id": "AnXg62iZgDDz"
      },
      "execution_count": null,
      "outputs": []
    },
    {
      "cell_type": "code",
      "source": [
        "nrf=nrf.best_estimator_\n",
        "pred3_t=nrf.predict(rf_xt)\n",
        "pred3=nrf.predict(rf_xte)"
      ],
      "metadata": {
        "execution": {
          "iopub.status.busy": "2024-09-22T08:49:58.843204Z",
          "iopub.execute_input": "2024-09-22T08:49:58.8436Z",
          "iopub.status.idle": "2024-09-22T08:49:58.919769Z",
          "shell.execute_reply.started": "2024-09-22T08:49:58.843557Z",
          "shell.execute_reply": "2024-09-22T08:49:58.918574Z"
        },
        "trusted": true,
        "id": "NovgKOu9gDDz"
      },
      "execution_count": null,
      "outputs": []
    },
    {
      "cell_type": "code",
      "source": [
        "tdf=pd.DataFrame({\n",
        "    'Classification Algorithms': ['AdaBoost Classifier', 'Decision Tree Classifier', 'Random Forest Classifier'],\n",
        "    'Training Accuracy': [\n",
        "        accuracy_score(ada_yt, pred1_t),\n",
        "        accuracy_score(dt_yt, pred2_t),\n",
        "        accuracy_score(rf_yt, pred3_t)\n",
        "    ],\n",
        "    'Training Precision': [\n",
        "        precision_score(ada_yt, pred1_t, average='weighted', zero_division=0),\n",
        "        precision_score(dt_yt, pred2_t, average='weighted', zero_division=0),\n",
        "        precision_score(rf_yt, pred3_t, average='weighted', zero_division=0)\n",
        "    ],\n",
        "    'Training Recall': [\n",
        "        recall_score(ada_yt, pred1_t, average='weighted'),\n",
        "        recall_score(dt_yt, pred2_t, average='weighted'),\n",
        "        recall_score(rf_yt, pred3_t, average='weighted')\n",
        "    ],\n",
        "    'Training F1 Score': [\n",
        "        f1_score(ada_yt, pred1_t, average='weighted'),\n",
        "        f1_score(dt_yt, pred2_t, average='weighted'),\n",
        "        f1_score(rf_yt, pred3_t, average='weighted')\n",
        "    ]\n",
        "})\n",
        "tdf"
      ],
      "metadata": {
        "execution": {
          "iopub.status.busy": "2024-09-22T08:49:58.921165Z",
          "iopub.execute_input": "2024-09-22T08:49:58.921556Z",
          "iopub.status.idle": "2024-09-22T08:49:58.967507Z",
          "shell.execute_reply.started": "2024-09-22T08:49:58.921485Z",
          "shell.execute_reply": "2024-09-22T08:49:58.966455Z"
        },
        "trusted": true,
        "id": "WEHIJdFigDDz"
      },
      "execution_count": null,
      "outputs": []
    },
    {
      "cell_type": "code",
      "source": [
        "tedf=pd.DataFrame({\n",
        "    'Classification Algorithms': ['AdaBoost Classifier', 'Decision Tree Classifier', 'Random Forest Classifier'],\n",
        "    'Testing Accuracy': [\n",
        "        accuracy_score(ada_yte, pred1),\n",
        "        accuracy_score(dt_yte, pred2),\n",
        "        accuracy_score(rf_yte, pred3)\n",
        "    ],\n",
        "    'Testing Precision': [\n",
        "        precision_score(ada_yte, pred1, average='weighted', zero_division=0),\n",
        "        precision_score(dt_yte, pred2, average='weighted', zero_division=0),\n",
        "        precision_score(rf_yte, pred3, average='weighted', zero_division=0)\n",
        "    ],\n",
        "    'Testing Recall': [\n",
        "        recall_score(ada_yte, pred1, average='weighted'),\n",
        "        recall_score(dt_yte, pred2, average='weighted'),\n",
        "        recall_score(rf_yte, pred3, average='weighted')\n",
        "    ],\n",
        "    'Testing F1 Score': [\n",
        "        f1_score(ada_yte, pred1, average='weighted'),\n",
        "        f1_score(dt_yte, pred2, average='weighted'),\n",
        "        f1_score(rf_yte, pred3, average='weighted')\n",
        "    ]\n",
        "})\n",
        "tedf"
      ],
      "metadata": {
        "execution": {
          "iopub.status.busy": "2024-09-22T08:49:58.969036Z",
          "iopub.execute_input": "2024-09-22T08:49:58.969446Z",
          "iopub.status.idle": "2024-09-22T08:49:59.012855Z",
          "shell.execute_reply.started": "2024-09-22T08:49:58.969405Z",
          "shell.execute_reply": "2024-09-22T08:49:59.01168Z"
        },
        "trusted": true,
        "id": "AraxJsc8gDD0"
      },
      "execution_count": null,
      "outputs": []
    },
    {
      "cell_type": "code",
      "source": [
        "print('AdaBoost Classifier classification report\\n\\n',classification_report(ada_yte,pred1,zero_division=0),'\\n\\n\\n')\n",
        "print('Decision Tree Classifier classification report\\n\\n',classification_report(dt_yte,pred2,zero_division=0),'\\n\\n\\n')\n",
        "print('Random Forest Classifier classification report\\n\\n',classification_report(dt_yte,pred3,zero_division=0))"
      ],
      "metadata": {
        "execution": {
          "iopub.status.busy": "2024-09-22T08:49:59.014593Z",
          "iopub.execute_input": "2024-09-22T08:49:59.015073Z",
          "iopub.status.idle": "2024-09-22T08:49:59.053576Z",
          "shell.execute_reply.started": "2024-09-22T08:49:59.015009Z",
          "shell.execute_reply": "2024-09-22T08:49:59.052333Z"
        },
        "trusted": true,
        "id": "5wGSA2HEgDD0"
      },
      "execution_count": null,
      "outputs": []
    },
    {
      "cell_type": "code",
      "source": [
        "fig,axs=plt.subplots(1,3,figsize=(15,6))\n",
        "fig.suptitle('Training Confusion Matrices for different Classification Models', fontsize=16)\n",
        "sns.heatmap(confusion_matrix(ada_yt,pred1_t),annot=True,ax=axs[0])\n",
        "axs[0].set_title('AdaBoost Classifier')\n",
        "sns.heatmap(confusion_matrix(dt_yt,pred2_t),annot=True,ax=axs[1])\n",
        "axs[1].set_title('Decision Tree Classifier')\n",
        "sns.heatmap(confusion_matrix(dt_yt,pred3_t),annot=True,ax=axs[2])\n",
        "axs[2].set_title('Random Forest CLassifier')\n",
        "plt.tight_layout()\n",
        "plt.show()"
      ],
      "metadata": {
        "execution": {
          "iopub.status.busy": "2024-09-22T08:49:59.055819Z",
          "iopub.execute_input": "2024-09-22T08:49:59.056308Z",
          "iopub.status.idle": "2024-09-22T08:50:00.675821Z",
          "shell.execute_reply.started": "2024-09-22T08:49:59.056254Z",
          "shell.execute_reply": "2024-09-22T08:50:00.674582Z"
        },
        "trusted": true,
        "id": "D9nLz2_JgDD0"
      },
      "execution_count": null,
      "outputs": []
    },
    {
      "cell_type": "code",
      "source": [
        "fig,axs=plt.subplots(1,3,figsize=(15,6))\n",
        "fig.suptitle('Testing Confusion Matrices for different Classification Models', fontsize=16)\n",
        "sns.heatmap(confusion_matrix(ada_yte,pred1),annot=True,ax=axs[0])\n",
        "axs[0].set_title('AdaBoost Classifier')\n",
        "sns.heatmap(confusion_matrix(dt_yte,pred2),annot=True,ax=axs[1])\n",
        "axs[1].set_title('Decision Tree Classifier')\n",
        "sns.heatmap(confusion_matrix(dt_yte,pred3),annot=True,ax=axs[2])\n",
        "axs[2].set_title('Random Forest CLassifier')\n",
        "plt.tight_layout()\n",
        "plt.show()"
      ],
      "metadata": {
        "scrolled": true,
        "execution": {
          "iopub.status.busy": "2024-09-22T08:50:00.677457Z",
          "iopub.execute_input": "2024-09-22T08:50:00.677953Z",
          "iopub.status.idle": "2024-09-22T08:50:02.152161Z",
          "shell.execute_reply.started": "2024-09-22T08:50:00.677898Z",
          "shell.execute_reply": "2024-09-22T08:50:02.1506Z"
        },
        "trusted": true,
        "id": "sabMoEXtgDD0"
      },
      "execution_count": null,
      "outputs": []
    },
    {
      "cell_type": "markdown",
      "source": [
        "**AdaBoost Classifier:**\n",
        "\n",
        "1. Training Performance: It shows decent accuracy (83.89%) and reasonable precision (75.44%), recall (83.89%), and F1 score (78.35%).\n",
        "2. Testing Performance: The testing accuracy (81.67%) is slightly lower than the training accuracy, indicating potential overfitting, though the metrics remain relatively stable.\n",
        "****\n",
        "\n",
        "\n",
        "**Decision Tree Classifier:**\n",
        "\n",
        "1. Training Performance: It achieved perfect scores across all metrics (accuracy, precision, recall, F1 score) on the training data (100%).\n",
        "2. Testing Performance: Similarly, it also scored perfectly on the testing data. This suggests that the model may be overfitting the data, as it performs exceptionally well on both training and testing.\n",
        "****\n",
        "\n",
        "\n",
        "**Random Forest Classifier:**\n",
        "\n",
        "1. Training Performance: Like the Decision Tree, it also achieved perfect scores on the training data.\n",
        "2. Testing Performance: The testing accuracy (98.33%) is very high, with precision (98.54%), recall (98.33%), and F1 score (98.33%) indicating strong generalization capability. This suggests it balances well between fitting the training data and performing well on unseen data.\n",
        "****\n",
        "\n",
        "\n",
        "**Overall Conclusions:**\n",
        "\n",
        "1. The Decision Tree and Random Forest Classifiers exhibit perfect performance on both training and testing sets, indicating they may be overfitting the training data, but the Random Forest shows better generalization compared to the Decision Tree.\n",
        "2. The AdaBoost Classifier performs adequately but does not reach the high performance of the other two models, suggesting it may be a less optimal choice for this particular dataset.\n",
        "3. When choosing a model, the Random Forest might be the best option due to its strong testing performance, while the Decision Tree might need further tuning to avoid overfitting.\n"
      ],
      "metadata": {
        "id": "-GU6AEXYgDD0"
      }
    }
  ]
}